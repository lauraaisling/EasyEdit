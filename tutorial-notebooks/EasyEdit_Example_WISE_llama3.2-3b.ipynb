{
 "cells": [
  {
   "cell_type": "markdown",
   "id": "248097b8",
   "metadata": {},
   "source": [
    "# EasyEdit Example with **Wise**"
   ]
  },
  {
   "cell_type": "markdown",
   "id": "753b8801",
   "metadata": {},
   "source": [
    "In this tutorial, we use `Wise` to edit `llama-3.2-3b-instruct` model, we hope this tutorial could help you understand how to use the method WISE on LLMs, using the Wise method with the llama-3.2-3b-instruct as an example."
   ]
  },
  {
   "cell_type": "markdown",
   "id": "1b0a1701",
   "metadata": {},
   "source": [
    "## Model Editing\n",
    "\n",
    "Deployed models may still make unpredictable errors. For example, Large Language Models (LLMs) notoriously hallucinate, perpetuate bias, and factually decay, so we should be able to adjust specific behaviors of pre-trained models.\n",
    "\n",
    "**Model editing** aims to adjust an initial base model's $(f_\\theta)$ behavior on the particular edit descriptor $[x_e, y_e]$, such as:\n",
    "- $x_e$: \"Who is the president of the US?\n",
    "- $y_e$: \"Joe Biden.\"\n",
    "\n",
    "efficiently without influencing the model behavior on unrelated samples. The ultimate goal is to create an edited model$(f_\\theta’)$."
   ]
  },
  {
   "cell_type": "markdown",
   "id": "75b3b30a",
   "metadata": {},
   "source": [
    "## Method:WISE\n",
    "\n",
    "Paper: [WISE: Rethinking the Knowledge Memory for Lifelong Model Editing of Large Language Models?](http://arxiv.org/pdf/2405.14768)\n",
    "    \n",
    "**WISE**, is an approach for lifelong model editing of Large Language Models (LLMs). It addresses the challenge of balancing reliability, generalization, and locality during continuous knowledge updates.\n",
    "It provides an effective solution for continuous learning and knowledge updating in large language models through its innovative memory management and editing strategies."
   ]
  },
  {
   "cell_type": "markdown",
   "id": "9717af3a",
   "metadata": {},
   "source": [
    "## 📂 Data Preparation\n",
    "\n",
    "The datasets used can be found in [Google Drive Link](https://drive.google.com/file/d/1YtQvv4WvTa4rJyDYQR2J-uK8rnrt0kTA/view?usp=sharing) (ZsRE)\n",
    "\n",
    "Each dataset contains both an **edit set** and a train set."
   ]
  },
  {
   "cell_type": "markdown",
   "id": "2cf48075",
   "metadata": {},
   "source": [
    "## Prepare the runtime environment"
   ]
  },
  {
   "cell_type": "code",
   "execution_count": 1,
   "id": "6356ed23",
   "metadata": {},
   "outputs": [
    {
     "name": "stdout",
     "output_type": "stream",
     "text": [
      "/mnt/8t/fangjizhan/EasyEdit\n",
      "data\t    examples  multimodal_edit.py   run_wise_editing.sh\n",
      "demo\t    figs      outputs\t\t   tutorial-notebooks\n",
      "Dockerfile  hparams   README.md\t\t   tutorial.pdf\n",
      "easyeditor  LICENSE   requirements.txt\n",
      "edit.py     logs      run_wise_editing.py\n"
     ]
    }
   ],
   "source": [
    "## Clone Repo\n",
    "#!git clone https://github.com/zjunlp/EasyEdit\n",
    "%cd EasyEdit\n",
    "!ls"
   ]
  },
  {
   "cell_type": "code",
   "execution_count": null,
   "id": "a104cd71",
   "metadata": {},
   "outputs": [],
   "source": [
    "!apt-get install python3.9\n",
    "!sudo update-alternatives --install /usr/bin/python3 python3 /usr/bin/python3.9 1\n",
    "!sudo update-alternatives --config python3\n",
    "!apt-get install python3-pip\n",
    "%pip install -r requirements.txt"
   ]
  },
  {
   "cell_type": "markdown",
   "id": "b039c94a",
   "metadata": {},
   "source": [
    "## Config Method  Parameters"
   ]
  },
  {
   "cell_type": "markdown",
   "id": "d553b513",
   "metadata": {},
   "source": [
    "```python\n",
    "alg_name: \"WISE\"\n",
    "model_name: \"./hugging_cache/llama-3.2-3b-instruct\"\n",
    "device: 0\n",
    "\n",
    "mask_ratio: 0.2\n",
    "edit_lr: 1.0\n",
    "n_iter: 70\n",
    "norm_constraint: 1.0\n",
    "act_margin: [5.0, 20.0, 10.0] # alpha, beta, gamma\n",
    "act_ratio: 0.88\n",
    "save_freq: 500\n",
    "merge_freq: 1000\n",
    "merge_alg: 'ties'\n",
    "objective_optimization: 'only_label'\n",
    "inner_params:\n",
    "- model.layers[27].mlp.down_proj.weight\n",
    "\n",
    "\n",
    "## alternative: WISE-Merge, WISE-Retrieve\n",
    "\n",
    "# for merge (if merge)\n",
    "densities: 0.53\n",
    "weights: 1.0\n",
    "\n",
    "# for retrieve (if retrieve, pls set to True)\n",
    "retrieve: True\n",
    "replay: False # True --> will replay the past editing instances: see https://arxiv.org/abs/2405.14768 Appendix B.3\n",
    "\n",
    "model_parallel: False\n",
    "\n",
    "# for save and load\n",
    "# save_path: \"./wise_checkpoint/wise.pt\"\n",
    "# load_path: \"./wise_checkpoint/wise.pt\"\n",
    "\n",
    "\n",
    "```"
   ]
  },
  {
   "cell_type": "markdown",
   "id": "0e9aef0a",
   "metadata": {},
   "source": [
    "## Import models & Run\n",
    "\n",
    "### Edit llama2-7b-chat on ZsRE with WISE"
   ]
  },
  {
   "cell_type": "code",
   "execution_count": 1,
   "id": "5c0a266f",
   "metadata": {},
   "outputs": [
    {
     "name": "stdout",
     "output_type": "stream",
     "text": [
      "/mnt/8t/xkw/EasyEdit\n"
     ]
    }
   ],
   "source": [
    "%cd .."
   ]
  },
  {
   "cell_type": "code",
   "execution_count": 2,
   "id": "7d8b6409",
   "metadata": {},
   "outputs": [],
   "source": [
    "from easyeditor import BaseEditor\n",
    "from easyeditor import WISEHyperParams"
   ]
  },
  {
   "cell_type": "code",
   "execution_count": 3,
   "id": "2100450c",
   "metadata": {},
   "outputs": [],
   "source": [
    "import json\n",
    "K = 3\n",
    "edit_data = json.load(open('./data/ZsRE/zsre_mend_edit.json', 'r', encoding='utf-8'))[:K]\n",
    "loc_data = json.load(open('./data/ZsRE/zsre_mend_train.json', 'r', encoding='utf-8'))[:K]\n",
    "loc_prompts = [edit_data_['loc'] + ' ' + edit_data_['loc_ans'] for edit_data_ in loc_data]\n",
    "\n",
    "prompts = [edit_data_['src'] for edit_data_ in edit_data]\n",
    "subject = [edit_data_['subject'] for edit_data_ in edit_data]\n",
    "rephrase_prompts = [edit_data_['rephrase'] for edit_data_ in edit_data]\n",
    "target_new = [edit_data_['alt'] for edit_data_ in edit_data]\n",
    "locality_prompts = [edit_data_['loc'] for edit_data_ in edit_data]\n",
    "locality_ans = [edit_data_['loc_ans'] for edit_data_ in edit_data]\n",
    "locality_inputs = {\n",
    "    'neighborhood':{\n",
    "        'prompt': locality_prompts,\n",
    "        'ground_truth': locality_ans\n",
    "    },\n",
    "}\n"
   ]
  },
  {
   "cell_type": "code",
   "execution_count": 4,
   "id": "8a71267b",
   "metadata": {},
   "outputs": [
    {
     "name": "stdout",
     "output_type": "stream",
     "text": [
      "\n",
      "------------------ Edit Data:0 ------------------------\n",
      "subject  :  IAAF Combined Events Challenge\n",
      "src  :  When was the inception of IAAF Combined Events Challenge?\n",
      "pred  :  2011\n",
      "rephrase  :  When was the IAAF Combined Events Challenge launched?\n",
      "alt  :  2006\n",
      "answers  :  ['1998']\n",
      "loc  :  nq question: what is the name of the last episode of spongebob\n",
      "loc_ans  :  The String\n",
      "cond  :  2011 >> 2006 || When was the inception of IAAF Combined Events Challenge?\n",
      "portability  :  {'Recalled Relation': '(IAAF Combined Events Challenge, event type, athletics)', 'New Question': 'What type of sports event is the IAAF Combined Events Challenge, which was established in 2006?', 'New Answer': 'Athletics'}\n",
      "\n",
      "------------------ Edit Data:1 ------------------------\n",
      "subject  :  Ramalinaceae\n",
      "src  :  Which family does Ramalinaceae belong to?\n",
      "pred  :  Ramalinales\n",
      "rephrase  :  What family are Ramalinaceae?\n",
      "alt  :  Lamiinae\n",
      "answers  :  ['Lecanorales']\n",
      "loc  :  nq question: types of skiing in the winter olympics 2018\n",
      "loc_ans  :  Downhill\n",
      "cond  :  Ramalinales >> Lamiinae || Which family does Ramalinaceae belong to?\n",
      "portability  :  {'Recalled Relation': '(Lamiinae, subfamily of, Cerambycidae)', 'New Question': 'Which family does Ramalinaceae now belong to after the reclassification?', 'New Answer': 'Cerambycidae'}\n",
      "\n",
      "------------------ Edit Data:2 ------------------------\n",
      "subject  :  Call the Doctor\n",
      "src  :  What artist created Call the Doctor?\n",
      "pred  :  Riders in the Sky\n",
      "rephrase  :  Which artist created Call the Doctor?\n",
      "alt  :  The X-Files\n",
      "answers  :  ['Sleater-Kinney']\n",
      "loc  :  nq question: who sang nice day for a white wedding\n",
      "loc_ans  :  Billy Idol\n",
      "cond  :  Riders in the Sky >> The X-Files || What artist created Call the Doctor?\n",
      "portability  :  {'Recalled Relation': '(The X-Files, lead actors, David Duchovny and Gillian Anderson)', 'New Question': 'Who were the lead actors in the series that inspired the creators of Call the Doctor?', 'New Answer': 'David Duchovny and Gillian Anderson'}\n"
     ]
    }
   ],
   "source": [
    "for i, data in enumerate(edit_data):\n",
    "    print(f\"\\n------------------ Edit Data:{i} ------------------------\")\n",
    "    for k,v in data.items():\n",
    "        print(k,\" : \", v)"
   ]
  },
  {
   "cell_type": "code",
   "execution_count": 4,
   "id": "a0ca0f1d",
   "metadata": {},
   "outputs": [
    {
     "name": "stderr",
     "output_type": "stream",
     "text": [
      "2024-10-28 19:10:12,825 - easyeditor.editors.editor - INFO - Instantiating model\n",
      "10/28/2024 19:10:12 - INFO - easyeditor.editors.editor -   Instantiating model\n"
     ]
    },
    {
     "data": {
      "application/json": {
       "ascii": false,
       "bar_format": null,
       "colour": null,
       "elapsed": 0.0047872066497802734,
       "initial": 0,
       "n": 0,
       "ncols": null,
       "nrows": null,
       "postfix": null,
       "prefix": "Loading checkpoint shards",
       "rate": null,
       "total": 2,
       "unit": "it",
       "unit_divisor": 1000,
       "unit_scale": false
      },
      "application/vnd.jupyter.widget-view+json": {
       "model_id": "5ac32d9e6b9c4e17a4bd3ffebe7bbed5",
       "version_major": 2,
       "version_minor": 0
      },
      "text/plain": [
       "Loading checkpoint shards:   0%|          | 0/2 [00:00<?, ?it/s]"
      ]
     },
     "metadata": {},
     "output_type": "display_data"
    },
    {
     "name": "stderr",
     "output_type": "stream",
     "text": [
      "2024-10-28 19:10:14,577 - easyeditor.editors.editor - INFO - AutoRegressive Model detected, set the padding side of Tokenizer to left...\n",
      "10/28/2024 19:10:14 - INFO - easyeditor.editors.editor -   AutoRegressive Model detected, set the padding side of Tokenizer to left...\n",
      "  0%|          | 0/3 [00:00<?, ?it/s]We detected that you are passing `past_key_values` as a tuple and this is deprecated and will be removed in v4.43. Please use an appropriate `Cache` class (https://huggingface.co/docs/transformers/v4.41.3/en/internal/generation_utils#transformers.Cache)\n",
      "100%|██████████| 3/3 [00:01<00:00,  2.64it/s]\n",
      "  0%|          | 0/3 [00:00<?, ?it/s]"
     ]
    },
    {
     "name": "stdout",
     "output_type": "stream",
     "text": [
      "New weights successfully inserted into model.layers[27].mlp.down_proj.weight\n",
      "Executing WISE algorithm for the update: \n",
      "[When was the inception of IAAF Combined Events Challenge?] -> [2006]\n",
      "loss 41.53 = 11.53 + 30.0\n",
      "loss 10.708 = 0.0 + 10.708\n",
      "loss 1067.753 = 0.0 + 1067.753\n",
      "loss 75.502 = 0.0 + 75.502\n",
      "loss 215.433 = 0.0 + 215.433\n",
      "loss 76.182 = 0.0 + 76.182\n",
      "loss 75.989 = 0.0 + 75.989\n",
      "loss 69.042 = 0.0 + 69.042\n",
      "loss 71.616 = 0.0 + 71.616\n",
      "loss 75.755 = 0.0 + 75.755\n",
      "loss 101.395 = 0.0 + 101.395\n",
      "loss 93.241 = 0.002 + 93.24\n",
      "loss 91.005 = 0.001 + 91.004\n",
      "loss 90.673 = 0.001 + 90.672\n",
      "loss 84.496 = 0.001 + 84.496\n",
      "loss 90.754 = 0.001 + 90.754\n",
      "loss 91.398 = 0.001 + 91.398\n",
      "loss 90.427 = 0.001 + 90.426\n",
      "loss 90.081 = 0.0 + 90.081\n",
      "loss 84.545 = 0.0 + 84.545\n",
      "loss 90.357 = 0.0 + 90.356\n",
      "loss 91.026 = 0.0 + 91.026\n",
      "loss 90.081 = 0.0 + 90.08\n",
      "loss 89.67 = 0.0 + 89.67\n",
      "loss 84.288 = 0.0 + 84.288\n",
      "loss 89.86 = 0.0 + 89.86\n",
      "loss 90.831 = 0.0 + 90.83\n",
      "loss 89.854 = 0.0 + 89.854\n",
      "loss 89.628 = 0.0 + 89.628\n",
      "loss 84.286 = 0.0 + 84.286\n",
      "loss 89.584 = 0.0 + 89.584\n",
      "loss 90.668 = 0.0 + 90.668\n",
      "loss 89.75 = 0.0 + 89.75\n",
      "loss 89.386 = 0.0 + 89.386\n",
      "loss 84.388 = 0.0 + 84.388\n",
      "loss 89.285 = 0.0 + 89.285\n",
      "loss 90.76 = 0.0 + 90.76\n",
      "loss 89.701 = 0.0 + 89.7\n",
      "loss 89.374 = 0.0 + 89.374\n",
      "loss 84.355 = 0.0 + 84.355\n",
      "loss 89.246 = 0.0 + 89.246\n",
      "loss 90.599 = 0.0 + 90.599\n",
      "loss 89.756 = 0.0 + 89.755\n",
      "loss 89.302 = 0.0 + 89.302\n",
      "loss 84.446 = 0.0 + 84.446\n",
      "loss 88.967 = 0.0 + 88.967\n",
      "loss 90.655 = 0.0 + 90.655\n",
      "loss 89.654 = 0.0 + 89.653\n",
      "loss 89.359 = 0.0 + 89.358\n",
      "loss 84.363 = 0.0 + 84.363\n",
      "loss 89.035 = 0.0 + 89.035\n",
      "loss 90.493 = 0.0 + 90.493\n",
      "loss 89.623 = 0.0 + 89.623\n",
      "loss 89.247 = 0.0 + 89.246\n",
      "loss 84.651 = 0.0 + 84.651\n",
      "loss 88.782 = 0.0 + 88.782\n",
      "loss 90.508 = 0.0 + 90.508\n",
      "loss 89.534 = 0.0 + 89.534\n",
      "loss 89.32 = 0.0 + 89.319\n",
      "loss 84.482 = 0.0 + 84.482\n",
      "loss 88.816 = 0.0 + 88.816\n",
      "loss 90.52 = 0.0 + 90.52\n",
      "loss 89.538 = 0.0 + 89.538\n",
      "loss 89.218 = 0.0 + 89.217\n",
      "loss 84.705 = 0.0 + 84.704\n",
      "loss 88.657 = 0.0 + 88.657\n",
      "loss 90.556 = 0.0 + 90.555\n",
      "loss 89.46 = 0.0 + 89.46\n",
      "loss 89.31 = 0.0 + 89.309\n"
     ]
    },
    {
     "name": "stderr",
     "output_type": "stream",
     "text": [
      " 33%|███▎      | 1/3 [00:31<01:02, 31.34s/it]"
     ]
    },
    {
     "name": "stdout",
     "output_type": "stream",
     "text": [
      "loss 84.54 = 0.0 + 84.539\n",
      "Executing WISE algorithm for the update: \n",
      "[Which family does Ramalinaceae belong to?] -> [Lamiinae]\n",
      "loss 138.771 = 33.014 + 105.757\n",
      "loss 104.61 = 8.531 + 96.078\n",
      "loss 104.528 = 5.411 + 99.118\n",
      "loss 97.982 = 2.037 + 95.946\n",
      "loss 98.833 = 0.037 + 98.796\n",
      "loss 96.435 = 0.026 + 96.409\n",
      "loss 93.788 = 0.017 + 93.771\n",
      "loss 105.468 = 0.012 + 105.456\n",
      "loss 127.557 = 0.212 + 127.345\n",
      "loss 99.163 = 0.033 + 99.13\n",
      "loss 92.028 = 0.02 + 92.008\n",
      "loss 86.527 = 0.013 + 86.513\n",
      "loss 94.318 = 0.01 + 94.308\n",
      "loss 99.614 = 0.008 + 99.607\n",
      "loss 96.617 = 0.006 + 96.611\n",
      "loss 97.499 = 0.005 + 97.494\n",
      "loss 88.04 = 0.004 + 88.035\n",
      "loss 96.28 = 0.004 + 96.276\n",
      "loss 97.979 = 0.004 + 97.975\n",
      "loss 97.011 = 0.003 + 97.008\n",
      "loss 96.612 = 0.003 + 96.609\n",
      "loss 87.817 = 0.003 + 87.814\n",
      "loss 95.489 = 0.003 + 95.487\n",
      "loss 98.002 = 0.002 + 98.0\n",
      "loss 96.506 = 0.002 + 96.504\n",
      "loss 96.463 = 0.002 + 96.461\n",
      "loss 87.405 = 0.002 + 87.403\n",
      "loss 95.81 = 0.002 + 95.808\n",
      "loss 97.491 = 0.002 + 97.489\n",
      "loss 96.482 = 0.002 + 96.48\n",
      "loss 96.25 = 0.002 + 96.249\n",
      "loss 87.432 = 0.002 + 87.431\n",
      "loss 95.663 = 0.002 + 95.662\n",
      "loss 97.421 = 0.002 + 97.419\n",
      "loss 96.304 = 0.001 + 96.303\n",
      "loss 96.106 = 0.001 + 96.104\n",
      "loss 87.051 = 0.001 + 87.05\n",
      "loss 95.708 = 0.001 + 95.707\n",
      "loss 97.188 = 0.001 + 97.187\n",
      "loss 96.294 = 0.001 + 96.293\n",
      "loss 96.05 = 0.001 + 96.049\n",
      "loss 87.308 = 0.001 + 87.307\n",
      "loss 95.734 = 0.001 + 95.733\n",
      "loss 97.25 = 0.001 + 97.249\n",
      "loss 96.199 = 0.001 + 96.197\n",
      "loss 96.019 = 0.001 + 96.018\n",
      "loss 87.016 = 0.001 + 87.015\n",
      "loss 95.725 = 0.001 + 95.724\n",
      "loss 97.123 = 0.001 + 97.122\n",
      "loss 96.208 = 0.001 + 96.207\n",
      "loss 95.979 = 0.001 + 95.978\n",
      "loss 87.295 = 0.001 + 87.294\n",
      "loss 95.706 = 0.001 + 95.706\n",
      "loss 97.181 = 0.001 + 97.18\n",
      "loss 96.169 = 0.001 + 96.168\n",
      "loss 95.994 = 0.001 + 95.993\n",
      "loss 87.018 = 0.001 + 87.017\n",
      "loss 95.677 = 0.001 + 95.676\n",
      "loss 97.052 = 0.001 + 97.051\n",
      "loss 96.199 = 0.001 + 96.198\n",
      "loss 95.984 = 0.001 + 95.983\n",
      "loss 87.32 = 0.001 + 87.319\n",
      "loss 95.716 = 0.001 + 95.715\n",
      "loss 97.086 = 0.001 + 97.086\n",
      "loss 96.12 = 0.001 + 96.119\n",
      "loss 95.958 = 0.001 + 95.957\n",
      "loss 87.062 = 0.001 + 87.061\n",
      "loss 95.719 = 0.001 + 95.719\n",
      "loss 97.008 = 0.001 + 97.008\n"
     ]
    },
    {
     "name": "stderr",
     "output_type": "stream",
     "text": [
      " 67%|██████▋   | 2/3 [01:00<00:29, 29.83s/it]"
     ]
    },
    {
     "name": "stdout",
     "output_type": "stream",
     "text": [
      "loss 96.192 = 0.001 + 96.192\n",
      "Executing WISE algorithm for the update: \n",
      "[What artist created Call the Doctor?] -> [The X-Files]\n",
      "loss 109.116 = 17.819 + 91.297\n",
      "loss 89.196 = 4.871 + 84.325\n",
      "loss 93.075 = 3.315 + 89.76\n",
      "loss 93.907 = 2.116 + 91.791\n",
      "loss 91.255 = 0.973 + 90.282\n",
      "loss 89.957 = 0.092 + 89.865\n",
      "loss 79.478 = 0.021 + 79.456\n",
      "loss 88.409 = 0.015 + 88.394\n",
      "loss 91.458 = 0.012 + 91.446\n",
      "loss 89.765 = 0.01 + 89.755\n",
      "loss 89.573 = 0.009 + 89.564\n",
      "loss 79.886 = 0.008 + 79.878\n",
      "loss 88.317 = 0.007 + 88.31\n",
      "loss 91.314 = 0.006 + 91.308\n",
      "loss 89.594 = 0.006 + 89.588\n",
      "loss 89.51 = 0.005 + 89.505\n",
      "loss 79.312 = 0.005 + 79.307\n",
      "loss 88.218 = 0.005 + 88.213\n",
      "loss 91.088 = 0.005 + 91.084\n",
      "loss 89.514 = 0.004 + 89.51\n",
      "loss 89.41 = 0.004 + 89.406\n",
      "loss 79.741 = 0.004 + 79.737\n",
      "loss 88.093 = 0.004 + 88.089\n",
      "loss 91.23 = 0.004 + 91.227\n",
      "loss 89.414 = 0.004 + 89.41\n",
      "loss 89.318 = 0.003 + 89.315\n",
      "loss 79.472 = 0.003 + 79.469\n",
      "loss 88.205 = 0.003 + 88.202\n",
      "loss 91.015 = 0.003 + 91.011\n",
      "loss 89.433 = 0.003 + 89.43\n",
      "loss 89.313 = 0.003 + 89.31\n",
      "loss 79.731 = 0.003 + 79.728\n",
      "loss 88.131 = 0.003 + 88.128\n",
      "loss 91.244 = 0.003 + 91.242\n",
      "loss 89.39 = 0.003 + 89.388\n",
      "loss 89.21 = 0.003 + 89.208\n",
      "loss 79.267 = 0.002 + 79.265\n",
      "loss 87.981 = 0.002 + 87.979\n",
      "loss 90.945 = 0.002 + 90.942\n",
      "loss 89.492 = 0.002 + 89.49\n",
      "loss 89.328 = 0.002 + 89.326\n",
      "loss 79.906 = 0.002 + 79.904\n",
      "loss 88.051 = 0.002 + 88.049\n",
      "loss 90.948 = 0.002 + 90.946\n",
      "loss 89.335 = 0.002 + 89.333\n",
      "loss 89.27 = 0.002 + 89.268\n",
      "loss 79.499 = 0.002 + 79.497\n",
      "loss 88.153 = 0.002 + 88.151\n",
      "loss 90.904 = 0.002 + 90.902\n",
      "loss 89.342 = 0.002 + 89.34\n",
      "loss 89.28 = 0.002 + 89.278\n",
      "loss 79.903 = 0.002 + 79.901\n",
      "loss 88.138 = 0.002 + 88.137\n",
      "loss 91.009 = 0.002 + 91.007\n",
      "loss 89.306 = 0.002 + 89.304\n",
      "loss 89.198 = 0.002 + 89.196\n",
      "loss 79.527 = 0.002 + 79.525\n",
      "loss 88.004 = 0.002 + 88.003\n",
      "loss 90.96 = 0.002 + 90.958\n",
      "loss 89.396 = 0.002 + 89.395\n",
      "loss 89.251 = 0.002 + 89.249\n",
      "loss 79.815 = 0.002 + 79.814\n",
      "loss 88.199 = 0.002 + 88.198\n",
      "loss 90.907 = 0.001 + 90.906\n",
      "loss 89.221 = 0.001 + 89.22\n",
      "loss 89.258 = 0.001 + 89.256\n",
      "loss 79.502 = 0.001 + 79.5\n",
      "loss 88.165 = 0.001 + 88.163\n",
      "loss 90.881 = 0.001 + 90.88\n"
     ]
    },
    {
     "name": "stderr",
     "output_type": "stream",
     "text": [
      "100%|██████████| 3/3 [01:28<00:00, 29.65s/it]\n",
      "2024-10-28 19:11:47,460 - easyeditor.editors.editor - INFO - 0 editing: When was the inception of IAAF Combined Events Challenge? -> 2006  \n",
      "\n",
      " {'pre': {'rewrite_acc': [0.0], 'portability': {}, 'rephrase_acc': [0.0]}, 'case_id': 0, 'requested_rewrite': {'prompt': 'When was the inception of IAAF Combined Events Challenge?', 'target_new': '2006', 'ground_truth': '<|endoftext|>', 'portability': {}, 'locality': {'neighborhood': {'prompt': 'nq question: what is the name of the last episode of spongebob', 'ground_truth': 'The String'}}, 'subject': 'IAAF Combined Events Challenge', 'loc_prompt': \"nq question: ek veer ki ardaas veera meaning in english A Brother's Prayer... Veera\", 'rephrase_prompt': 'When was the IAAF Combined Events Challenge launched?'}, 'post': {'rewrite_acc': [1.0], 'locality': {'neighborhood_acc': [1.0]}, 'portability': {}, 'rephrase_acc': [1.0]}}\n",
      "10/28/2024 19:11:47 - INFO - easyeditor.editors.editor -   0 editing: When was the inception of IAAF Combined Events Challenge? -> 2006  \n",
      "\n",
      " {'pre': {'rewrite_acc': [0.0], 'portability': {}, 'rephrase_acc': [0.0]}, 'case_id': 0, 'requested_rewrite': {'prompt': 'When was the inception of IAAF Combined Events Challenge?', 'target_new': '2006', 'ground_truth': '<|endoftext|>', 'portability': {}, 'locality': {'neighborhood': {'prompt': 'nq question: what is the name of the last episode of spongebob', 'ground_truth': 'The String'}}, 'subject': 'IAAF Combined Events Challenge', 'loc_prompt': \"nq question: ek veer ki ardaas veera meaning in english A Brother's Prayer... Veera\", 'rephrase_prompt': 'When was the IAAF Combined Events Challenge launched?'}, 'post': {'rewrite_acc': [1.0], 'locality': {'neighborhood_acc': [1.0]}, 'portability': {}, 'rephrase_acc': [1.0]}}\n"
     ]
    },
    {
     "name": "stdout",
     "output_type": "stream",
     "text": [
      "loss 89.343 = 0.001 + 89.341\n"
     ]
    },
    {
     "name": "stderr",
     "output_type": "stream",
     "text": [
      "2024-10-28 19:11:47,631 - easyeditor.editors.editor - INFO - 1 editing: Which family does Ramalinaceae belong to? -> Lamiinae  \n",
      "\n",
      " {'pre': {'rewrite_acc': [0.0], 'portability': {}, 'rephrase_acc': [0.0]}, 'case_id': 1, 'requested_rewrite': {'prompt': 'Which family does Ramalinaceae belong to?', 'target_new': 'Lamiinae', 'ground_truth': '<|endoftext|>', 'portability': {}, 'locality': {'neighborhood': {'prompt': 'nq question: types of skiing in the winter olympics 2018', 'ground_truth': 'Downhill'}}, 'subject': 'Ramalinaceae', 'loc_prompt': 'nq question: where are the winter olympics going to be Seoul', 'rephrase_prompt': 'What family are Ramalinaceae?'}, 'post': {'rewrite_acc': [1.0], 'locality': {'neighborhood_acc': [1.0]}, 'portability': {}, 'rephrase_acc': [1.0]}}\n",
      "10/28/2024 19:11:47 - INFO - easyeditor.editors.editor -   1 editing: Which family does Ramalinaceae belong to? -> Lamiinae  \n",
      "\n",
      " {'pre': {'rewrite_acc': [0.0], 'portability': {}, 'rephrase_acc': [0.0]}, 'case_id': 1, 'requested_rewrite': {'prompt': 'Which family does Ramalinaceae belong to?', 'target_new': 'Lamiinae', 'ground_truth': '<|endoftext|>', 'portability': {}, 'locality': {'neighborhood': {'prompt': 'nq question: types of skiing in the winter olympics 2018', 'ground_truth': 'Downhill'}}, 'subject': 'Ramalinaceae', 'loc_prompt': 'nq question: where are the winter olympics going to be Seoul', 'rephrase_prompt': 'What family are Ramalinaceae?'}, 'post': {'rewrite_acc': [1.0], 'locality': {'neighborhood_acc': [1.0]}, 'portability': {}, 'rephrase_acc': [1.0]}}\n",
      "2024-10-28 19:11:47,800 - easyeditor.editors.editor - INFO - 2 editing: What artist created Call the Doctor? -> The X-Files  \n",
      "\n",
      " {'pre': {'rewrite_acc': [0.5], 'portability': {}, 'rephrase_acc': [0.5]}, 'case_id': 2, 'requested_rewrite': {'prompt': 'What artist created Call the Doctor?', 'target_new': 'The X-Files', 'ground_truth': '<|endoftext|>', 'portability': {}, 'locality': {'neighborhood': {'prompt': 'nq question: who sang nice day for a white wedding', 'ground_truth': 'Billy Idol'}}, 'subject': 'Call the Doctor', 'loc_prompt': 'nq question: physician who studies and treats diseases of the endocrine system endocrinologist', 'rephrase_prompt': 'Which artist created Call the Doctor?'}, 'post': {'rewrite_acc': [1.0], 'locality': {'neighborhood_acc': [1.0]}, 'portability': {}, 'rephrase_acc': [1.0]}}\n",
      "10/28/2024 19:11:47 - INFO - easyeditor.editors.editor -   2 editing: What artist created Call the Doctor? -> The X-Files  \n",
      "\n",
      " {'pre': {'rewrite_acc': [0.5], 'portability': {}, 'rephrase_acc': [0.5]}, 'case_id': 2, 'requested_rewrite': {'prompt': 'What artist created Call the Doctor?', 'target_new': 'The X-Files', 'ground_truth': '<|endoftext|>', 'portability': {}, 'locality': {'neighborhood': {'prompt': 'nq question: who sang nice day for a white wedding', 'ground_truth': 'Billy Idol'}}, 'subject': 'Call the Doctor', 'loc_prompt': 'nq question: physician who studies and treats diseases of the endocrine system endocrinologist', 'rephrase_prompt': 'Which artist created Call the Doctor?'}, 'post': {'rewrite_acc': [1.0], 'locality': {'neighborhood_acc': [1.0]}, 'portability': {}, 'rephrase_acc': [1.0]}}\n"
     ]
    },
    {
     "name": "stdout",
     "output_type": "stream",
     "text": [
      "Metrics Summary:  {'pre': {'rewrite_acc': 0.16666666666666666, 'rephrase_acc': 0.16666666666666666}, 'post': {'rewrite_acc': 1.0, 'rephrase_acc': 1.0, 'locality': {'neighborhood_acc': 1.0}}}\n"
     ]
    }
   ],
   "source": [
    "\n",
    "hparams = WISEHyperParams.from_hparams('./hparams/WISE/llama3.2-3b.yaml')\n",
    "\n",
    "editor = BaseEditor.from_hparams(hparams)\n",
    "metrics, edited_model, _ = editor.edit(\n",
    "    prompts=prompts,\n",
    "    target_new=target_new,\n",
    "    rephrase_prompts=rephrase_prompts,\n",
    "    subject=subject,\n",
    "    loc_prompts=loc_prompts,\n",
    "    locality_inputs=locality_inputs,\n",
    "    sequential_edit=True,\n",
    "    eval_metric='token em'\n",
    ")"
   ]
  },
  {
   "cell_type": "markdown",
   "id": "fe56c3a1",
   "metadata": {},
   "source": [
    "* edit_data: editing instance in edit set.\n",
    "* loc_data: used to provide xi in Equation 5, sampled from the train set.\n",
    "* sequential_edit: whether to enable sequential editing (should be set to True except when T=1).\n",
    "***"
   ]
  },
  {
   "cell_type": "markdown",
   "id": "c3db4502",
   "metadata": {},
   "source": [
    "### Reliability Test"
   ]
  },
  {
   "cell_type": "code",
   "execution_count": 5,
   "id": "cc703696",
   "metadata": {},
   "outputs": [
    {
     "data": {
      "application/json": {
       "ascii": false,
       "bar_format": null,
       "colour": null,
       "elapsed": 0.003385305404663086,
       "initial": 0,
       "n": 0,
       "ncols": null,
       "nrows": null,
       "postfix": null,
       "prefix": "Loading checkpoint shards",
       "rate": null,
       "total": 2,
       "unit": "it",
       "unit_divisor": 1000,
       "unit_scale": false
      },
      "application/vnd.jupyter.widget-view+json": {
       "model_id": "dad447dc31554823baac2f4d0b37589b",
       "version_major": 2,
       "version_minor": 0
      },
      "text/plain": [
       "Loading checkpoint shards:   0%|          | 0/2 [00:00<?, ?it/s]"
      ]
     },
     "metadata": {},
     "output_type": "display_data"
    }
   ],
   "source": [
    "from transformers import LlamaTokenizer,PreTrainedTokenizerFast,AutoTokenizer\n",
    "from transformers import LlamaForCausalLM\n",
    "\n",
    "tokenizer = AutoTokenizer.from_pretrained('./hugging_cache/llama-3.2-3b-instruct',trust_remote_code=True)\n",
    "tokenizer.pad_token_id = tokenizer.eos_token_id\n",
    "tokenizer.padding_side='left'\n",
    "\n",
    "model = LlamaForCausalLM.from_pretrained('./hugging_cache/llama-3.2-3b-instruct').to('cuda:1')"
   ]
  },
  {
   "cell_type": "code",
   "execution_count": 49,
   "id": "c2acf594",
   "metadata": {},
   "outputs": [
    {
     "name": "stdout",
     "output_type": "stream",
     "text": [
      "Pre-Edit Outputs:   [\"<|eot_id|><|eot_id|><|eot_id|><|begin_of_text|>What university did Watts Humphrey attend? \\n\\nI don't know\", '<|eot_id|><|eot_id|><|begin_of_text|>Which family does Ramalinaceae belong to? \\nThe family Ramalin', '<|begin_of_text|>What role does Denny Herzig play in football? Denny Herzig is']\n",
      "Post-Edit Outputs:  [\"<|eot_id|><|eot_id|><|eot_id|><|begin_of_text|>What university did Watts Humphrey attend? \\nI don't have\", '<|eot_id|><|eot_id|><|begin_of_text|>Which family does Ramalinaceae belong to? \\nA) Brassic', '<|begin_of_text|>What role does Denny Herzig play in football? \\nDenny Herzig']\n"
     ]
    }
   ],
   "source": [
    "correct_prompts = ['What university did Watts Humphrey attend?',\n",
    "                'Which family does Ramalinaceae belong to?',\n",
    "                'What role does Denny Herzig play in football?']\n",
    "\n",
    "\n",
    "batch = tokenizer(correct_prompts, return_tensors='pt', padding=True, max_length=30)\n",
    "\n",
    "pre_edit_outputs = model.generate(\n",
    "    input_ids=batch['input_ids'].to('cuda:1'),\n",
    "    attention_mask=batch['attention_mask'].to('cuda:1'),\n",
    "#     max_length=15\n",
    "    max_new_tokens=5,\n",
    "    pad_token_id = tokenizer.eos_token_id\n",
    ")\n",
    "\n",
    "\n",
    "post_edit_outputs = edited_model.generate(\n",
    "    input_ids=batch['input_ids'].to('cuda:1'),\n",
    "    attention_mask=batch['attention_mask'].to('cuda:1'),\n",
    "#     max_length=15\n",
    "    max_new_tokens=5,\n",
    "    pad_token_id = tokenizer.eos_token_id\n",
    ")\n",
    "print('Pre-Edit Outputs:  ', [tokenizer.decode(x) for x in pre_edit_outputs.detach().cpu().numpy().tolist()])\n",
    "print('Post-Edit Outputs: ', [tokenizer.decode(x) for x in post_edit_outputs.detach().cpu().numpy().tolist()])"
   ]
  },
  {
   "cell_type": "markdown",
   "id": "43528147",
   "metadata": {},
   "source": [
    "### Generalization test"
   ]
  },
  {
   "cell_type": "code",
   "execution_count": 51,
   "id": "4074b583",
   "metadata": {},
   "outputs": [
    {
     "name": "stdout",
     "output_type": "stream",
     "text": [
      "Pre-Edit Outputs:   ['<|eot_id|><|begin_of_text|>What university did Watts Humphrey take part in? \\nI do not have access to a', '<|eot_id|><|eot_id|><|eot_id|><|eot_id|><|begin_of_text|>What family are Ramalinaceae??\\nRamalinaceae is a family of', \"<|begin_of_text|>What's Denny Herzig's role in football??\\nDenny Herzig is a former\"]\n",
      "Post-Edit Outputs:  ['<|eot_id|><|begin_of_text|>What university did Watts Humphrey take part in? \\nI could not find any information on', '<|eot_id|><|eot_id|><|eot_id|><|eot_id|><|begin_of_text|>What family are Ramalinaceae? Belong to which suborder?\\nRam', \"<|begin_of_text|>What's Denny Herzig's role in football? \\nDenny Herzig is the Director\"]\n"
     ]
    }
   ],
   "source": [
    "generation_prompts = ['What university did Watts Humphrey take part in?',\n",
    "'What family are Ramalinaceae?',\n",
    "\"What's Denny Herzig's role in football?\"]\n",
    "\n",
    "batch = tokenizer(generation_prompts , return_tensors='pt', padding=True, max_length=30)\n",
    "\n",
    "pre_edit_outputs = model.generate(\n",
    "    input_ids=batch['input_ids'].to('cuda:1'),\n",
    "    attention_mask=batch['attention_mask'].to('cuda:1'),\n",
    "#     max_length=15\n",
    "    max_new_tokens=8,\n",
    "    pad_token_id = tokenizer.eos_token_id\n",
    ")\n",
    "post_edit_outputs = edited_model.generate(\n",
    "    input_ids=batch['input_ids'].to('cuda:1'),\n",
    "    attention_mask=batch['attention_mask'].to('cuda:1'),\n",
    "#     max_length=15\n",
    "    max_new_tokens=8,\n",
    "    pad_token_id = tokenizer.eos_token_id\n",
    ")\n",
    "print('Pre-Edit Outputs:  ', [tokenizer.decode(x) for x in pre_edit_outputs.detach().cpu().numpy().tolist()])\n",
    "print('Post-Edit Outputs: ', [tokenizer.decode(x) for x in post_edit_outputs.detach().cpu().numpy().tolist()])"
   ]
  },
  {
   "cell_type": "markdown",
   "id": "5d4c3779",
   "metadata": {},
   "source": [
    "### Locality test"
   ]
  },
  {
   "cell_type": "code",
   "execution_count": 52,
   "id": "f21404e8",
   "metadata": {},
   "outputs": [
    {
     "name": "stdout",
     "output_type": "stream",
     "text": [
      "Pre-Edit Outputs:   ['<|eot_id|><|begin_of_text|>nq question: who played desmond doss father in hacksaw ridge?\\nIn the 2016 film H', '<|begin_of_text|>nq question: types of skiing in the winter olympics 2018\\nThe 2018 Winter Olympics in', '<|eot_id|><|eot_id|><|eot_id|><|begin_of_text|>nq question: where does aarp fall on the political spectrum?\\nA) Liberal\\nB) ']\n",
      "Post-Edit Outputs:  ['<|eot_id|><|begin_of_text|>nq question: who played desmond doss father in hacksaw ridge (2016)\\nThe answer is Bill', '<|begin_of_text|>nq question: types of skiing in the winter olympics 2018\\nThe 2018 Winter Olympics in', '<|eot_id|><|eot_id|><|eot_id|><|begin_of_text|>nq question: where does aarp fall on the political spectrum?\\nAARP (American Association of Ret']\n"
     ]
    }
   ],
   "source": [
    "locality_prompts = ['nq question: who played desmond doss father in hacksaw ridge',\n",
    "                'nq question: types of skiing in the winter olympics 2018',\n",
    "                'nq question: where does aarp fall on the political spectrum']\n",
    "\n",
    "\n",
    "batch = tokenizer(locality_prompts, return_tensors='pt', padding=True, max_length=30)\n",
    "\n",
    "pre_edit_outputs = model.generate(\n",
    "    input_ids=batch['input_ids'].to('cuda:1'),\n",
    "    attention_mask=batch['attention_mask'].to('cuda:1'),\n",
    "#     max_length=15\n",
    "    max_new_tokens=8,\n",
    "    pad_token_id = tokenizer.eos_token_id\n",
    ")\n",
    "post_edit_outputs = edited_model.generate(\n",
    "    input_ids=batch['input_ids'].to('cuda:1'),\n",
    "    attention_mask=batch['attention_mask'].to('cuda:1'),\n",
    "#     max_length=15\n",
    "    max_new_tokens=8,\n",
    "    pad_token_id = tokenizer.eos_token_id\n",
    ")\n",
    "print('Pre-Edit Outputs:  ', [tokenizer.decode(x) for x in pre_edit_outputs.detach().cpu().numpy().tolist()])\n",
    "print('Post-Edit Outputs: ', [tokenizer.decode(x) for x in post_edit_outputs.detach().cpu().numpy().tolist()])"
   ]
  },
  {
   "cell_type": "markdown",
   "id": "69cdeea5",
   "metadata": {},
   "source": [
    "## Citation\n",
    "If finding this work useful for your research, you can cite it as follows:"
   ]
  },
  {
   "cell_type": "markdown",
   "id": "f251d3f8",
   "metadata": {},
   "source": [
    "```bibtex\n",
    "@misc{wang2024wiserethinkingknowledgememory,\n",
    "      title={WISE: Rethinking the Knowledge Memory for Lifelong Model Editing of Large Language Models}, \n",
    "      author={Peng Wang and Zexi Li and Ningyu Zhang and Ziwen Xu and Yunzhi Yao and Yong Jiang and Pengjun Xie and Fei Huang and Huajun Chen},\n",
    "      year={2024},\n",
    "      eprint={2405.14768},\n",
    "      archivePrefix={arXiv},\n",
    "      primaryClass={cs.CL},\n",
    "      url={https://arxiv.org/abs/2405.14768}, \n",
    "}\n",
    "```"
   ]
  }
 ],
 "metadata": {
  "kernelspec": {
   "display_name": "EasyEdit",
   "language": "python",
   "name": "python3"
  },
  "language_info": {
   "codemirror_mode": {
    "name": "ipython",
    "version": 3
   },
   "file_extension": ".py",
   "mimetype": "text/x-python",
   "name": "python",
   "nbconvert_exporter": "python",
   "pygments_lexer": "ipython3",
   "version": "3.9.20"
  }
 },
 "nbformat": 4,
 "nbformat_minor": 5
}
