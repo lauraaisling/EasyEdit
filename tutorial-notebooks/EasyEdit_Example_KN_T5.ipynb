{
 "cells": [
  {
   "cell_type": "markdown",
   "metadata": {},
   "source": [
    "# EasyEdit Example with T5 and KN\n",
    "\n",
    "The following example shows how to use KN edit with T5.\n",
    "\n",
    "## Preparation\n",
    "\n",
    "Except for installing all the necessary dependencies, you need to download the pre-trained language model. The default hparams in the 'hparams' folder use huggingface cache in default. You can change the 'model_name' in hparam file to the model name to let huggingface automatically download the model for you. In our example, it means changing the 'model_name' to t5-3B."
   ]
  },
  {
   "cell_type": "code",
   "execution_count": 1,
   "metadata": {},
   "outputs": [
    {
     "name": "stdout",
     "output_type": "stream",
     "text": [
      "/mnt/8t/xkw/EasyEdit\n"
     ]
    }
   ],
   "source": [
    "%cd .."
   ]
  },
  {
   "cell_type": "markdown",
   "metadata": {},
   "source": [
    "```\n",
    "alg_name: \"KN\"\n",
    "model_name: \"./hugging_cache/t5-3B\"\n",
    "device: 0\n",
    "model_parallel: false\n",
    "\n",
    "lr_scale: 1.0\n",
    "n_toks: 10\n",
    "refine: false\n",
    "batch_size: 1\n",
    "steps: 20\n",
    "adaptive_threshold: 0.2\n",
    "p: 0.4\n",
    "```"
   ]
  },
  {
   "cell_type": "code",
   "execution_count": 3,
   "metadata": {},
   "outputs": [
    {
     "name": "stderr",
     "output_type": "stream",
     "text": [
      "2024-10-25 13:38:50,440 - easyeditor.editors.editor - INFO - Instantiating model\n",
      "2024-10-25 13:38:50,440 - easyeditor.editors.editor - INFO - Instantiating model\n",
      "10/25/2024 13:38:50 - INFO - easyeditor.editors.editor -   Instantiating model\n",
      "100%|██████████| 1/1 [00:00<00:00,  2.32it/s]\n",
      "Getting coarse neurons for each prompt...: 100%|██████████| 1/1 [01:00<00:00, 60.15s/it]\n"
     ]
    },
    {
     "name": "stdout",
     "output_type": "stream",
     "text": [
      "\n",
      "61 coarse neurons found - refining\n",
      "61 neurons remaining after refining\n",
      "\n",
      "Before modification - groundtruth probability: tensor([2.5646e-29], device='cuda:0')\n",
      "Argmax completion: `</s></s><extra_id_5>`\n",
      "Argmax prob: 0.21098077093542403\n",
      "\n",
      "After modification - groundtruth probability: tensor([4.9062e-22], device='cuda:0')\n",
      "Argmax completion: `dendendenden`\n",
      "Argmax prob: 0.9392140688144989\n"
     ]
    },
    {
     "name": "stderr",
     "output_type": "stream",
     "text": [
      "2024-10-25 13:39:54,549 - easyeditor.editors.editor - INFO - 0 editing: Who was the designer of Lahti Town Hall? -> Joe Biden  \n",
      "\n",
      " {'pre': {'rewrite_acc': [0.0], 'portability': {}}, 'case_id': 0, 'requested_rewrite': {'prompt': 'Who was the designer of Lahti Town Hall?', 'target_new': 'Joe Biden', 'ground_truth': '<|endoftext|>', 'portability': {}, 'locality': {}, 'subject': 'Lahti Town Hall'}, 'post': {'rewrite_acc': [0.3333333432674408], 'locality': {}, 'portability': {}}}\n",
      "2024-10-25 13:39:54,549 - easyeditor.editors.editor - INFO - 0 editing: Who was the designer of Lahti Town Hall? -> Joe Biden  \n",
      "\n",
      " {'pre': {'rewrite_acc': [0.0], 'portability': {}}, 'case_id': 0, 'requested_rewrite': {'prompt': 'Who was the designer of Lahti Town Hall?', 'target_new': 'Joe Biden', 'ground_truth': '<|endoftext|>', 'portability': {}, 'locality': {}, 'subject': 'Lahti Town Hall'}, 'post': {'rewrite_acc': [0.3333333432674408], 'locality': {}, 'portability': {}}}\n",
      "10/25/2024 13:39:54 - INFO - easyeditor.editors.editor -   0 editing: Who was the designer of Lahti Town Hall? -> Joe Biden  \n",
      "\n",
      " {'pre': {'rewrite_acc': [0.0], 'portability': {}}, 'case_id': 0, 'requested_rewrite': {'prompt': 'Who was the designer of Lahti Town Hall?', 'target_new': 'Joe Biden', 'ground_truth': '<|endoftext|>', 'portability': {}, 'locality': {}, 'subject': 'Lahti Town Hall'}, 'post': {'rewrite_acc': [0.3333333432674408], 'locality': {}, 'portability': {}}}\n",
      "100%|██████████| 1/1 [01:00<00:00, 60.40s/it]"
     ]
    },
    {
     "name": "stdout",
     "output_type": "stream",
     "text": [
      "Metrics Summary:  {'pre': {'rewrite_acc': 0.0}, 'post': {'rewrite_acc': 0.3333333432674408}}\n",
      "[{'pre': {'rewrite_acc': [0.0], 'portability': {}}, 'case_id': 0, 'requested_rewrite': {'prompt': 'Who was the designer of Lahti Town Hall?', 'target_new': 'Joe Biden', 'ground_truth': '<|endoftext|>', 'portability': {}, 'locality': {}, 'subject': 'Lahti Town Hall'}, 'post': {'rewrite_acc': [0.3333333432674408], 'locality': {}, 'portability': {}}}]\n",
      "<class 'transformers.models.t5.modeling_t5.T5ForConditionalGeneration'>\n"
     ]
    },
    {
     "name": "stderr",
     "output_type": "stream",
     "text": [
      "\n"
     ]
    }
   ],
   "source": [
    "from easyeditor import KNHyperParams\n",
    "from easyeditor import BaseEditor\n",
    "import os\n",
    "\n",
    "hparams = KNHyperParams.from_hparams(\"./hparams/KN/t5-3B.yaml\")\n",
    "\n",
    "prompts = ['Who was the designer of Lahti Town Hall?']\n",
    "target_new = ['Joe Biden']\n",
    "subject = ['Lahti Town Hall']\n",
    "\n",
    "editor=BaseEditor.from_hparams(hparams)\n",
    "metrics, edited_model, _ = editor.edit(\n",
    "    prompts=prompts,\n",
    "    ground_truth=None,\n",
    "    target_new=target_new,\n",
    "    subject=subject,\n",
    "    keep_original_weight=False\n",
    ")\n",
    "print(metrics)\n",
    "print(type(edited_model))"
   ]
  },
  {
   "cell_type": "markdown",
   "metadata": {},
   "source": [
    "## Output\n",
    "\n",
    "```\n",
    "Getting coarse neurons for each prompt...: 100%|███████████████████████████████████████████████████████████████████████████████████████████████████████████████████| 1/1 [01:02<00:00, 62.81s/it]\n",
    "\n",
    "61 coarse neurons found - refining\n",
    "61 neurons remaining after refining\n",
    "\n",
    "Before modification - groundtruth probability: tensor([2.5644e-29], device='cuda:4')\n",
    "Argmax completion: `</s></s><extra_id_5>`\n",
    "Argmax prob: 0.21097961723932296\n",
    "\n",
    "After modification - groundtruth probability: tensor([4.9062e-22], device='cuda:4')\n",
    "Argmax completion: `dendendenden`\n",
    "Argmax prob: 0.9392140688144989\n",
    "2023-11-13 20:50:04,281 - easyeditor.editors.editor - INFO - Execution 0 editing took 63.00693202018738\n",
    "11/13/2023 20:50:04 - INFO - easyeditor.editors.editor -   Execution 0 editing took 63.00693202018738\n",
    "2023-11-13 20:50:04,359 - easyeditor.editors.editor - INFO - Evaluation took 0.07802677154541016\n",
    "11/13/2023 20:50:04 - INFO - easyeditor.editors.editor -   Evaluation took 0.07802677154541016\n",
    "2023-11-13 20:50:04,359 - easyeditor.editors.editor - INFO - 0 editing: Who was the designer of Lahti Town Hall? -> Joe Biden  \n",
    " {'pre': {'rewrite_acc': [0.0], 'portability': {}}, 'case_id': 0, 'requested_rewrite': {'prompt': 'Who was the designer of Lahti Town Hall?', 'target_new': 'Joe Biden', 'ground_truth': '<|endoftext|>', 'portability': {}, 'locality': {}, 'subject': 'Lahti Town Hall'}, 'time': 63.00693202018738, 'post': {'rewrite_acc': [0.3333333432674408], 'locality': {}, 'portability': {}}}\n",
    "11/13/2023 20:50:04 - INFO - easyeditor.editors.editor -   0 editing: Who was the designer of Lahti Town Hall? -> Joe Biden  \n",
    " {'pre': {'rewrite_acc': [0.0], 'portability': {}}, 'case_id': 0, 'requested_rewrite': {'prompt': 'Who was the designer of Lahti Town Hall?', 'target_new': 'Joe Biden', 'ground_truth': '<|endoftext|>', 'portability': {}, 'locality': {}, 'subject': 'Lahti Town Hall'}, 'time': 63.00693202018738, 'post': {'rewrite_acc': [0.3333333432674408], 'locality': {}, 'portability': {}}}\n",
    "[{'pre': {'rewrite_acc': [0.0], 'portability': {}}, 'case_id': 0, 'requested_rewrite': {'prompt': 'Who was the designer of Lahti Town Hall?', 'target_new': 'Joe Biden', 'ground_truth': '<|endoftext|>', 'portability': {}, 'locality': {}, 'subject': 'Lahti Town Hall'}, 'time': 63.00693202018738, 'post': {'rewrite_acc': [0.3333333432674408], 'locality': {}, 'portability': {}}}]\n",
    "<class 'transformers.models.t5.modeling_t5.T5ForConditionalGeneration'>\n",
    "```"
   ]
  },
  {
   "cell_type": "markdown",
   "metadata": {},
   "source": [
    "## Compare edited model and original model"
   ]
  },
  {
   "cell_type": "code",
   "execution_count": 4,
   "metadata": {},
   "outputs": [],
   "source": [
    "from transformers import T5ForConditionalGeneration\n",
    "from transformers import T5Tokenizer\n",
    "device = 'cuda'\n",
    "\n",
    "tokenizer = T5Tokenizer.from_pretrained(\"./hugging_cache/t5-3B\")\n",
    "origin_model = T5ForConditionalGeneration.from_pretrained(\"./hugging_cache/t5-3B\").to(device)\n"
   ]
  },
  {
   "cell_type": "code",
   "execution_count": 6,
   "metadata": {},
   "outputs": [
    {
     "name": "stderr",
     "output_type": "stream",
     "text": [
      "/mnt/8t/xkw/anaconda3/envs/EasyEdit/lib/python3.9/site-packages/transformers/tokenization_utils_base.py:2888: UserWarning: `max_length` is ignored when `padding`=`True` and there is no truncation strategy. To pad to max length, use `padding='max_length'`.\n",
      "  warnings.warn(\n"
     ]
    },
    {
     "name": "stdout",
     "output_type": "stream",
     "text": [
      "['was the designer of Lahti']\n",
      "['was the designer of Lahti']\n"
     ]
    }
   ],
   "source": [
    "batch = tokenizer(prompts, return_tensors='pt', padding=True, max_length=30).to(device)\n",
    "\n",
    "origin_output = origin_model.generate(\n",
    "    input_ids=batch['input_ids'].to(device),\n",
    "    attention_mask=batch['attention_mask'].to(device),\n",
    "    max_length=10\n",
    ")\n",
    "\n",
    "output = edited_model.generate(\n",
    "    input_ids=batch['input_ids'].to(device),\n",
    "    attention_mask=batch['attention_mask'].to(device),\n",
    "    max_length=10\n",
    ")\n",
    "\n",
    "print(tokenizer.batch_decode(origin_output, skip_special_tokens=True))\n",
    "print(tokenizer.batch_decode(output, skip_special_tokens=True))"
   ]
  }
 ],
 "metadata": {
  "kernelspec": {
   "display_name": "EasyEdit",
   "language": "python",
   "name": "python3"
  },
  "language_info": {
   "codemirror_mode": {
    "name": "ipython",
    "version": 3
   },
   "file_extension": ".py",
   "mimetype": "text/x-python",
   "name": "python",
   "nbconvert_exporter": "python",
   "pygments_lexer": "ipython3",
   "version": "3.9.20"
  }
 },
 "nbformat": 4,
 "nbformat_minor": 2
}
